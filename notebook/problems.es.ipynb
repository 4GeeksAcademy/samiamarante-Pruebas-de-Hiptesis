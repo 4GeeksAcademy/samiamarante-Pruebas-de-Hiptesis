{
 "cells": [
  {
   "cell_type": "markdown",
   "id": "d9d036c6",
   "metadata": {},
   "source": [
    "# Problemas de prueba de hipótesis"
   ]
  },
  {
   "cell_type": "markdown",
   "id": "d157c4db",
   "metadata": {},
   "source": [
    "## Ejercicio 1\n",
    "\n",
    "Usted es un nutricionista que investiga dos tipos diferentes de dietas para ver si existe una diferencia significativa en la pérdida de peso después de un mes. Eliges dos grupos aleatorios de personas; un grupo sigue la primera dieta y el otro sigue la segunda. Al final del mes, se registra la pérdida de peso (en kg) de cada persona:\n",
    "\n",
    "| Diet 1 | Diet 2 |\n",
    "|:-------|:-------|\n",
    "| 2.0 | 3.0 |\n",
    "| 2.5 | 3.2 |\n",
    "| 3.0 | 3.1 |\n",
    "| 2.8 | 2.9 |\n",
    "| 2.3 | 2.8 |\n",
    "| 2.7 | 3.0 |\n",
    "| 2.5 | 3.2 |\n",
    "\n",
    "Con estos datos se busca responder a la siguiente pregunta: ¿Existe una diferencia significativa en la pérdida de peso promedio entre las personas que siguieron la primera dieta y las que siguieron la segunda dieta?\n",
    "\n",
    "Para sacar conclusiones, siga los siguientes puntos:\n",
    "\n",
    "-Enunciar la hipótesis: hipótesis nula y alternativa.\n",
    "-Realizar la prueba para comprobar la hipótesis. Puede utilizar la prueba t de Student.\n",
    "-Analizar las conclusiones."
   ]
  },
  {
   "cell_type": "markdown",
   "id": "bcc2bb72",
   "metadata": {},
   "source": [
    "## Definir hipótesis\n",
    "\n",
    "H_0: No hay diferencia en la pérdida de peso promedio entre las dos dietas.\n",
    "\n",
    "H_1: Hay diferencia en la pérdida de peso promedio entre las dos dietas.\n",
    "\n",
    "alpha = 0,05"
   ]
  },
  {
   "cell_type": "code",
   "execution_count": 39,
   "id": "8e0f3cf0",
   "metadata": {},
   "outputs": [],
   "source": [
    "from scipy import stats\n",
    "from scipy.stats import levene\n",
    "import numpy as np\n",
    "import matplotlib.pyplot as plt\n",
    "import matplotlib.patches as mpatches\n",
    "import pandas as pd\n",
    "from statsmodels.stats.multicomp import pairwise_tukeyhsd\n",
    "\n",
    "diet_1 = [2.0, 2.5, 3.0, 2.8, 2.3, 2.7, 2.5]\n",
    "diet_2 = [3.0, 3.2, 3.1, 2.9, 2.8, 3.0, 3.2]"
   ]
  },
  {
   "cell_type": "code",
   "execution_count": 40,
   "id": "718fca8b",
   "metadata": {},
   "outputs": [
    {
     "name": "stdout",
     "output_type": "stream",
     "text": [
      "Diet 1 - P-value: 0.9635409177367069\n",
      "Diet 1 - P-value: 0.5905246580529597\n",
      "Los datos provienen de una distribución normal\n"
     ]
    }
   ],
   "source": [
    "# Comprobar si es una distribuición normal\n",
    "alpha = 0.05\n",
    "pvalue_1 = stats.shapiro(diet_1)[1]\n",
    "pvalue_2 = stats.shapiro(diet_2)[1]\n",
    "print('Diet 1 - P-value:', pvalue_1)\n",
    "print('Diet 1 - P-value:', pvalue_2)\n",
    "\n",
    "# Evaluación\n",
    "if pvalue_1 > alpha and pvalue_2 > alpha:\n",
    "    print('Los datos provienen de una distribución normal')\n",
    "else:\n",
    "    print('Los datos no provienen de una distribuición normal')"
   ]
  },
  {
   "cell_type": "code",
   "execution_count": 41,
   "id": "c42bb195",
   "metadata": {},
   "outputs": [
    {
     "name": "stdout",
     "output_type": "stream",
     "text": [
      "Varianza: 0.15767770055358\n",
      "Las varianzas son iguales\n"
     ]
    }
   ],
   "source": [
    "# Comprobar la vazianza con Levene\n",
    "pvalue_var = levene(diet_1, diet_2)[1]\n",
    "print('Varianza:', pvalue_var)\n",
    "\n",
    "# Evaluación\n",
    "if pvalue_var < alpha:\n",
    "    print('Las varianzas son diferentes')\n",
    "    equal_var = False\n",
    "else:\n",
    "    print('Las varianzas son iguales')\n",
    "    equal_var = True"
   ]
  },
  {
   "cell_type": "code",
   "execution_count": 42,
   "id": "534e254d",
   "metadata": {},
   "outputs": [
    {
     "name": "stdout",
     "output_type": "stream",
     "text": [
      "0.004083270191713912\n",
      "Se rechaza H0: hay una diferencia significativa en la pérdida de peso entre las dos dietas.\n"
     ]
    }
   ],
   "source": [
    "# Prueba T de Student\n",
    "pvalue = stats.ttest_ind(diet_1, diet_2, equal_var=True)[1]\n",
    "print(pvalue)\n",
    "\n",
    "#Evaluación\n",
    "if pvalue < alpha:\n",
    "    print('Se rechaza H0: hay una diferencia significativa en la pérdida de peso entre las dos dietas.')\n",
    "else:\n",
    "    print('No se rechaza HO: no hay diferencia significativa en la pérdida de peso entre las dos dietas.')"
   ]
  },
  {
   "cell_type": "code",
   "execution_count": 43,
   "id": "b043f7a9",
   "metadata": {},
   "outputs": [
    {
     "name": "stdout",
     "output_type": "stream",
     "text": [
      "Promedio dieta 1: 2.54 kg\n",
      "Promedio dieta 2: 3.03 kg\n",
      "Diferencia porcentual: 19.10%\n"
     ]
    }
   ],
   "source": [
    "# Promedio de pérdida de peso \n",
    "media_diet_1 = np.mean(diet_1)\n",
    "media_diet_2 = np.mean(diet_2)\n",
    "print(f'Promedio dieta 1: {media_diet_1:.2f} kg')\n",
    "print(f'Promedio dieta 2: {media_diet_2:.2f} kg')\n",
    "\n",
    "# Diferencia percentual\n",
    "diferencia_pct = ((media_diet_2 - media_diet_1) / media_diet_1) * 100\n",
    "print(f'Diferencia porcentual: {diferencia_pct:.2f}%')"
   ]
  },
  {
   "cell_type": "code",
   "execution_count": 44,
   "id": "d7d87793",
   "metadata": {},
   "outputs": [
    {
     "data": {
      "image/png": "[encoded data removed]",
      "text/plain": [
       "<Figure size 600x400 with 1 Axes>"
      ]
     },
     "metadata": {},
     "output_type": "display_data"
    }
   ],
   "source": [
    "# Grafico de comparación del promedio\n",
    "\n",
    "# Promedio y desviación estándar\n",
    "medias = (media_diet_1, media_diet_2)\n",
    "stds = [np.std(diet_1, ddof=1), np.std(diet_2, ddof=1)] # ddof = 1 para desviación muestral\n",
    "\n",
    "#Grafico de barras\n",
    "plt.figure(figsize=(6, 4))\n",
    "labels = ['Dieta 1', 'Dieta 2']\n",
    "plt.bar(labels, medias, yerr=stds, capsize=10, color=['skyblue', 'salmon'])\n",
    "plt.ylabel('Promedio de pérdida de peso (kg)')\n",
    "plt.title('Comparación de pérdida de peso entre dietas')\n",
    "plt.grid(axis='y', linestyle='--', alpha=0.6)\n",
    "plt.tight_layout()\n",
    "plt.show()"
   ]
  },
  {
   "cell_type": "markdown",
   "id": "86a2ed64",
   "metadata": {},
   "source": [
    "## Conclusión\n",
    "Con base en los datos analizados y en la prueba de hipótesis realizada, se concluye que existen evidencias estadísticas significativas que indican una diferencia en la pérdida de peso promedio entre las dos dietas evaluadas.\n",
    "\n",
    "En particular, la Dieta 2 demostró ser aproximadamente un 19,10 % más efectiva que la Dieta 1 en términos de reducción de peso promedio.\n"
   ]
  },
  {
   "cell_type": "markdown",
   "id": "f432e18e",
   "metadata": {},
   "source": [
    "## ANOVA\n",
    "\n",
    "**ANOVA** (*Analysis of Variance - Análisis de variación*) Es una técnica estadística utilizada para comparar las medidas de dos o más grupos. La idea detrás de ANOVA es descomponer la variabilidad total de los datos en dos componentes: variabilidad entre grupos y variabilidad dentro de los grupos:\n",
    "\n",
    "- **Variabilidad entre grupos**: Esta variabilidad se refiere a las diferencias entre las medias del grupo. Si esta variabilidad es considerablemente mayor que la variabilidad dentro del grupo, podría ser una indicación de que al menos una de las medias del grupo es diferente.\n",
    "- **Variabilidad dentro del grupo**: Esta variabilidad se refiere a la dispersión de los datos dentro de cada grupo. Si todos los grupos tienen una variabilidad similar, entonces cualquier diferencia notable en las medias de los grupos podría considerarse significativa.\n",
    "\n",
    "Las hipótesis en ANOVA suelen incluir:\n",
    "\n",
    "- **Hipótesis nula** ($H₀$): Las medias de todos los grupos son iguales.\n",
    "- **Hipótesis alternativa** ($H₁$): Al menos una de las medias del grupo es diferente.\n",
    "\n",
    "Si el resultado de la prueba ANOVA es significativo (por ejemplo, un valor p inferior a un umbral como 0,05), esto sugiere que al menos la media de un grupo es diferente."
   ]
  },
  {
   "cell_type": "markdown",
   "id": "fc5f3721",
   "metadata": {},
   "source": [
    "## Ejercicio 2\n",
    "\n",
    "Un agricultor decide probar tres tipos diferentes de fertilizantes para determinar si alguno es superior en términos de producción de maíz. El agricultor planta maíz en 15 parcelas idénticas y utiliza los tres fertilizantes (5 parcelas para cada tipo). Al final de la temporada mide el rendimiento de maíz (en kg) de cada parcela, con el siguiente resultado:\n",
    "\n",
    "| Fertilizante 1 | Fertilizante 2 | Fertilizante 3 |\n",
    "|:-------------|:-------------|:-------------|\n",
    "| 20 | 22 | 24 |\n",
    "| 21 | 21 | 23 |\n",
    "| 20 | 23 | 22 |\n",
    "| 19 | 22 | 23 |\n",
    "| 20 | 21 | 24 |\n",
    "\n",
    "Con estos datos busca responder la siguiente pregunta: ¿Existe una diferencia significativa en el rendimiento promedio del maíz entre los tres tipos de fertilizantes?\n",
    "\n",
    "Para ayudarte, sigue los siguientes puntos:\n",
    "\n",
    "-Enunciar la hipótesis: hipótesis nula y alternativa.\n",
    "-Realizar la prueba ANOVA.\n",
    "-Analizar las conclusiones.\n",
    "-Si un fertilizante es mejor que otro, ¿cómo podemos saberlo?"
   ]
  },
  {
   "cell_type": "markdown",
   "id": "6afe7988",
   "metadata": {},
   "source": [
    "## Hipótesis\n",
    "H0 = No hay diferencia significativa en el rendimiento promedio del maíz entre los tres fertilizantes.\n",
    "\n",
    "H1 = Al menos uno de los fertilizantes presenta un rendimiento promedio significativamente diferente de los demás."
   ]
  },
  {
   "cell_type": "code",
   "execution_count": 45,
   "id": "eecad0ca",
   "metadata": {},
   "outputs": [],
   "source": [
    "# Muestras\n",
    "fertilizante_1= [20, 21, 20, 19, 20]\n",
    "fertilizante_2 = [22, 21, 23, 22, 21]\n",
    "fertilizante_3 = [24, 23, 22, 23, 24]"
   ]
  },
  {
   "cell_type": "code",
   "execution_count": 46,
   "id": "a2956020",
   "metadata": {},
   "outputs": [
    {
     "name": "stdout",
     "output_type": "stream",
     "text": [
      "Fertilizante 1 - P-value: 0.32542950716414576\n",
      "Fertilizante 2 - P-value: 0.3140395561440371\n",
      "Fertilizante 3 - P-value: 0.3140395561440371\n",
      "Los datos provienen de una distribuición normal (no se rechaza H0)\n"
     ]
    }
   ],
   "source": [
    "# Comprobar si es una distribuición normal\n",
    "alpha = 0.05\n",
    "pvalue_fert_1 = stats.shapiro(fertilizante_1)[1]\n",
    "pvalue_fert_2 = stats.shapiro(fertilizante_2)[1]\n",
    "pvalue_fert_3 = stats.shapiro(fertilizante_3)[1]\n",
    "print('Fertilizante 1 - P-value:', pvalue_fert_1)\n",
    "print('Fertilizante 2 - P-value:', pvalue_fert_2)\n",
    "print('Fertilizante 3 - P-value:', pvalue_fert_3)\n",
    "\n",
    "# Evaluación\n",
    "if pvalue_fert_1 > alpha and pvalue_fert_2 > alpha and pvalue_fert_3 > alpha:\n",
    "    print('Los datos provienen de una distribuición normal (no se rechaza H0)')\n",
    "else:\n",
    "    print('Los datos no provienen de una distribuición normal (Se rechaza H0)')"
   ]
  },
  {
   "cell_type": "code",
   "execution_count": 47,
   "id": "6d280296",
   "metadata": {},
   "outputs": [
    {
     "name": "stdout",
     "output_type": "stream",
     "text": [
      "Varianza: 0.8039599174006208\n",
      "Las varianzas son iguales (no se rechaza H0)\n"
     ]
    }
   ],
   "source": [
    "# Comprobar la vazianza con Levene\n",
    "pvalue_var_fert = levene(fertilizante_1, fertilizante_2, fertilizante_3)[1]\n",
    "print('Varianza:', pvalue_var_fert)\n",
    "\n",
    "# Evaluación\n",
    "if pvalue_var_fert < alpha:\n",
    "    print('Las varianzas son diferentes (se rechaza H0)')\n",
    "    equal_var = False\n",
    "else:\n",
    "    print('Las varianzas son iguales (no se rechaza H0)')\n",
    "    equal_var = True"
   ]
  },
  {
   "cell_type": "code",
   "execution_count": 48,
   "id": "f3a292ac",
   "metadata": {},
   "outputs": [
    {
     "name": "stdout",
     "output_type": "stream",
     "text": [
      "0.00014047824793190472\n",
      "Se rechaza H0: hay diferencia significativa entre al menos dos fertilizantes\n"
     ]
    }
   ],
   "source": [
    "# Prueba con ANOVA (one way)\n",
    "alpha = 0.05\n",
    "p_valor = stats.f_oneway(fertilizante_1, fertilizante_2, fertilizante_3)[1]\n",
    "print(p_valor)\n",
    "\n",
    "# Evaluación\n",
    "if p_valor < alpha: \n",
    "    print('Se rechaza H0: hay diferencia significativa entre al menos dos fertilizantes')\n",
    "else:\n",
    "    print('No se rechaza HO: no hay diferencia significativa entre los fertilizantes')"
   ]
  },
  {
   "cell_type": "code",
   "execution_count": 49,
   "id": "299f87f5",
   "metadata": {},
   "outputs": [
    {
     "name": "stdout",
     "output_type": "stream",
     "text": [
      "Media Fertilizante 1: 20.0\n",
      "Media Fertilizante 2: 21.8\n",
      "Media Fertilizante 3: 23.2\n"
     ]
    }
   ],
   "source": [
    "# Promedio del rendimiento de los fertilizantes\n",
    "media_1 = np.mean(fertilizante_1)\n",
    "media_2 = np.mean(fertilizante_2)\n",
    "media_3 = np.mean(fertilizante_3)\n",
    "\n",
    "print(f\"Media Fertilizante 1: {media_1}\")\n",
    "print(f\"Media Fertilizante 2: {media_2}\")\n",
    "print(f\"Media Fertilizante 3: {media_3}\")"
   ]
  },
  {
   "cell_type": "code",
   "execution_count": 50,
   "id": "c28f842c",
   "metadata": {},
   "outputs": [
    {
     "data": {
      "text/html": [
       "<div>\n",
       "<style scoped>\n",
       "    .dataframe tbody tr th:only-of-type {\n",
       "        vertical-align: middle;\n",
       "    }\n",
       "\n",
       "    .dataframe tbody tr th {\n",
       "        vertical-align: top;\n",
       "    }\n",
       "\n",
       "    .dataframe thead th {\n",
       "        text-align: right;\n",
       "    }\n",
       "</style>\n",
       "<table border=\"1\" class=\"dataframe\">\n",
       "  <thead>\n",
       "    <tr style=\"text-align: right;\">\n",
       "      <th></th>\n",
       "      <th>Rendimiento</th>\n",
       "      <th>Fertilizante</th>\n",
       "    </tr>\n",
       "  </thead>\n",
       "  <tbody>\n",
       "    <tr>\n",
       "      <th>0</th>\n",
       "      <td>20</td>\n",
       "      <td>Fertilizante 1</td>\n",
       "    </tr>\n",
       "    <tr>\n",
       "      <th>1</th>\n",
       "      <td>21</td>\n",
       "      <td>Fertilizante 1</td>\n",
       "    </tr>\n",
       "    <tr>\n",
       "      <th>2</th>\n",
       "      <td>20</td>\n",
       "      <td>Fertilizante 1</td>\n",
       "    </tr>\n",
       "    <tr>\n",
       "      <th>3</th>\n",
       "      <td>19</td>\n",
       "      <td>Fertilizante 1</td>\n",
       "    </tr>\n",
       "    <tr>\n",
       "      <th>4</th>\n",
       "      <td>20</td>\n",
       "      <td>Fertilizante 1</td>\n",
       "    </tr>\n",
       "    <tr>\n",
       "      <th>5</th>\n",
       "      <td>22</td>\n",
       "      <td>Fertilizante 2</td>\n",
       "    </tr>\n",
       "    <tr>\n",
       "      <th>6</th>\n",
       "      <td>21</td>\n",
       "      <td>Fertilizante 2</td>\n",
       "    </tr>\n",
       "    <tr>\n",
       "      <th>7</th>\n",
       "      <td>23</td>\n",
       "      <td>Fertilizante 2</td>\n",
       "    </tr>\n",
       "    <tr>\n",
       "      <th>8</th>\n",
       "      <td>22</td>\n",
       "      <td>Fertilizante 2</td>\n",
       "    </tr>\n",
       "    <tr>\n",
       "      <th>9</th>\n",
       "      <td>21</td>\n",
       "      <td>Fertilizante 2</td>\n",
       "    </tr>\n",
       "    <tr>\n",
       "      <th>10</th>\n",
       "      <td>24</td>\n",
       "      <td>Fertilizante 3</td>\n",
       "    </tr>\n",
       "    <tr>\n",
       "      <th>11</th>\n",
       "      <td>23</td>\n",
       "      <td>Fertilizante 3</td>\n",
       "    </tr>\n",
       "    <tr>\n",
       "      <th>12</th>\n",
       "      <td>22</td>\n",
       "      <td>Fertilizante 3</td>\n",
       "    </tr>\n",
       "    <tr>\n",
       "      <th>13</th>\n",
       "      <td>23</td>\n",
       "      <td>Fertilizante 3</td>\n",
       "    </tr>\n",
       "    <tr>\n",
       "      <th>14</th>\n",
       "      <td>24</td>\n",
       "      <td>Fertilizante 3</td>\n",
       "    </tr>\n",
       "  </tbody>\n",
       "</table>\n",
       "</div>"
      ],
      "text/plain": [
       "    Rendimiento    Fertilizante\n",
       "0            20  Fertilizante 1\n",
       "1            21  Fertilizante 1\n",
       "2            20  Fertilizante 1\n",
       "3            19  Fertilizante 1\n",
       "4            20  Fertilizante 1\n",
       "5            22  Fertilizante 2\n",
       "6            21  Fertilizante 2\n",
       "7            23  Fertilizante 2\n",
       "8            22  Fertilizante 2\n",
       "9            21  Fertilizante 2\n",
       "10           24  Fertilizante 3\n",
       "11           23  Fertilizante 3\n",
       "12           22  Fertilizante 3\n",
       "13           23  Fertilizante 3\n",
       "14           24  Fertilizante 3"
      ]
     },
     "execution_count": 50,
     "metadata": {},
     "output_type": "execute_result"
    }
   ],
   "source": [
    "# Preparar los datos para la prueba post hoc de Tukey\n",
    "rendimientos = fertilizante_1 + fertilizante_2 + fertilizante_3 # combina todos los valores en una lista\n",
    "grupos = ['Fertilizante 1']*len(fertilizante_1) + ['Fertilizante 2']*len(fertilizante_2) + ['Fertilizante 3']*len(fertilizante_3)\n",
    "\n",
    "# Crear DataFrame\n",
    "df = pd.DataFrame({'Rendimiento': rendimientos, 'Fertilizante': grupos})\n",
    "df"
   ]
  },
  {
   "cell_type": "code",
   "execution_count": 52,
   "id": "6777dd50",
   "metadata": {},
   "outputs": [
    {
     "name": "stdout",
     "output_type": "stream",
     "text": [
      "       Multiple Comparison of Means - Tukey HSD, FWER=0.05        \n",
      "==================================================================\n",
      "    group1         group2     meandiff p-adj  lower  upper  reject\n",
      "------------------------------------------------------------------\n",
      "Fertilizante 1 Fertilizante 2      1.8 0.0099 0.4572 3.1428   True\n",
      "Fertilizante 1 Fertilizante 3      3.2 0.0001 1.8572 4.5428   True\n",
      "Fertilizante 2 Fertilizante 3      1.4 0.0409 0.0572 2.7428   True\n",
      "------------------------------------------------------------------\n"
     ]
    }
   ],
   "source": [
    "# Hacer la prueba post hoc de Tukey\n",
    "prueba_tukey = pairwise_tukeyhsd(endog=df['Rendimiento'], groups=df['Fertilizante'], alpha=0.05)\n",
    "print(prueba_tukey.summary())"
   ]
  },
  {
   "cell_type": "code",
   "execution_count": 56,
   "id": "ff98ed45",
   "metadata": {},
   "outputs": [
    {
     "data": {
      "image/png": "[encoded data removed]",
      "text/plain": [
       "<Figure size 1000x600 with 1 Axes>"
      ]
     },
     "metadata": {},
     "output_type": "display_data"
    }
   ],
   "source": [
    "# Gráfico de Tukey\n",
    "prueba_tukey.plot_simultaneous()\n",
    "plt.title('Comparación de rendimento entre los fertilizantes (Tukey)')\n",
    "plt.xlabel('Rendimiento')\n",
    "plt.show()"
   ]
  },
  {
   "cell_type": "markdown",
   "id": "fe47b329",
   "metadata": {},
   "source": [
    "## Conclusión\n",
    "\n",
    "La prueba ANOVA y la prueba de Tukey indicaron que el tipo de fertilizante influye significativamente en el rendimiento del maíz. **El fertilizante 3 se presenta como la mejor opción entre los tres evaluados**, ya que supera de manera significativa a los demás en términos de rendimiento. Por otro lado, el fertilizante 1 mostró el promedio de rendimiento más bajo. "
   ]
  }
 ],
 "metadata": {
  "kernelspec": {
   "display_name": "Python 3",
   "language": "python",
   "name": "python3"
  },
  "language_info": {
   "codemirror_mode": {
    "name": "ipython",
    "version": 3
   },
   "file_extension": ".py",
   "mimetype": "text/x-python",
   "name": "python",
   "nbconvert_exporter": "python",
   "pygments_lexer": "ipython3",
   "version": "3.11.4"
  }
 },
 "nbformat": 4,
 "nbformat_minor": 5
}
